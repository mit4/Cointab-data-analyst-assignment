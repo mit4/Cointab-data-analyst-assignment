{
 "cells": [
  {
   "cell_type": "code",
   "execution_count": 1,
   "id": "34ffa910",
   "metadata": {},
   "outputs": [],
   "source": [
    "import numpy as np\n",
    "import pandas as pd\n",
    "import math"
   ]
  },
  {
   "cell_type": "markdown",
   "id": "ecfb84c6",
   "metadata": {},
   "source": [
    "# Importing Data"
   ]
  },
  {
   "cell_type": "code",
   "execution_count": 2,
   "id": "a20b6591",
   "metadata": {},
   "outputs": [],
   "source": [
    "# import order report\n",
    "order_report = pd.read_excel(\"Company X - Order Report.xlsx\")\n",
    "\n",
    "# import pincode zones\n",
    "pin_zone = pd.read_excel(\"Company X - Pincode Zones.xlsx\")\n",
    "\n",
    "# import SKU Master\n",
    "sku = pd.read_excel(\"Company X - SKU Master.xlsx\")\n",
    "\n",
    "# import invoice\n",
    "invoice = pd.read_excel(\"Courier Company - Invoice.xlsx\")\n",
    "\n",
    "# import Rates\n",
    "rates = pd.read_excel(\"Courier Company - Rates.xlsx\")"
   ]
  },
  {
   "cell_type": "markdown",
   "id": "0a420935",
   "metadata": {},
   "source": [
    "### Checking missing values"
   ]
  },
  {
   "cell_type": "code",
   "execution_count": 3,
   "id": "4306ffe7",
   "metadata": {},
   "outputs": [
    {
     "name": "stdout",
     "output_type": "stream",
     "text": [
      "Missing Values in order Report are :\n",
      " ExternOrderNo           0\n",
      "SKU                     0\n",
      "Order Qty               0\n",
      "Payment Mode            0\n",
      "Item Price(Per Qty.)    0\n",
      "dtype: int64\n",
      "Missing Values in Pincode are :\n",
      " Warehouse Pincode    0\n",
      "Customer Pincode     0\n",
      "Zone                 0\n",
      "dtype: int64\n",
      "Missing Values in SKU are :\n",
      " SKU           0\n",
      "Weight (g)    0\n",
      "dtype: int64\n",
      "Missing Values in Invoice are :\n",
      " AWB Code                0\n",
      "Order ID                0\n",
      "Charged Weight          0\n",
      "Warehouse Pincode       0\n",
      "Customer Pincode        0\n",
      "Zone                    0\n",
      "Type of Shipment        0\n",
      "Billing Amount (Rs.)    0\n",
      "dtype: int64\n",
      "Missing Values in Rates are :\n",
      " Zone                                     0\n",
      "Weight Slabs                             0\n",
      "Forward Fixed Charge                     0\n",
      "Forward Additional Weight Slab Charge    0\n",
      "RTO Fixed Charge                         0\n",
      "RTO Additional Weight Slab Charge        0\n",
      "dtype: int64\n"
     ]
    }
   ],
   "source": [
    "print(\"Missing Values in order Report are :\\n\",order_report.isna().sum())\n",
    "print(\"Missing Values in Pincode are :\\n\",pin_zone.isna().sum())\n",
    "print(\"Missing Values in SKU are :\\n\",sku.isna().sum())\n",
    "print(\"Missing Values in Invoice are :\\n\",invoice.isna().sum())\n",
    "print(\"Missing Values in Rates are :\\n\",rates.isna().sum())"
   ]
  },
  {
   "cell_type": "markdown",
   "id": "6abb79d6",
   "metadata": {},
   "source": [
    "###  No missing values im all datasets"
   ]
  },
  {
   "cell_type": "markdown",
   "id": "9947a6b1",
   "metadata": {},
   "source": [
    "### Check for duplicates\n"
   ]
  },
  {
   "cell_type": "code",
   "execution_count": 4,
   "id": "7bd82d37",
   "metadata": {},
   "outputs": [
    {
     "name": "stdout",
     "output_type": "stream",
     "text": [
      "Number of duplicate rows in order Report is : 2\n",
      "Number of duplicate rows in Pincode is : 16\n",
      "Number of duplicate rows in SKU is : 1\n",
      "Number of duplicate rows in Invoice is : 0\n",
      "Number of duplicate rows in Rates is : 0\n"
     ]
    }
   ],
   "source": [
    "print(\"Number of duplicate rows in order Report is :\",order_report.duplicated().sum())\n",
    "print(\"Number of duplicate rows in Pincode is :\",pin_zone.duplicated().sum())\n",
    "print(\"Number of duplicate rows in SKU is :\",sku.duplicated().sum())\n",
    "print(\"Number of duplicate rows in Invoice is :\",invoice.duplicated().sum())\n",
    "print(\"Number of duplicate rows in Rates is :\",rates.duplicated().sum())"
   ]
  },
  {
   "cell_type": "markdown",
   "id": "c32c7175",
   "metadata": {},
   "source": [
    "### Drop duplicate rows from all tables.\n",
    "\n",
    "since we have Order Qty column, duplicate rows in Order Report are redundant "
   ]
  },
  {
   "cell_type": "code",
   "execution_count": 5,
   "id": "06531677",
   "metadata": {},
   "outputs": [],
   "source": [
    "# Dropping duplicate rows\n",
    "order_report.drop_duplicates(inplace=True)\n",
    "sku.drop_duplicates(inplace=True)\n",
    "pin_zone.drop_duplicates(inplace=True)"
   ]
  },
  {
   "cell_type": "markdown",
   "id": "1c9ff03d",
   "metadata": {},
   "source": [
    "### Add weight"
   ]
  },
  {
   "cell_type": "code",
   "execution_count": 6,
   "id": "7c23373d",
   "metadata": {},
   "outputs": [],
   "source": [
    "# Add weight per item column to order report\n",
    "data = order_report.merge(sku,how='left',on='SKU')"
   ]
  },
  {
   "cell_type": "code",
   "execution_count": 7,
   "id": "bbcf119b",
   "metadata": {},
   "outputs": [],
   "source": [
    "# total weight of item in KG\n",
    "data['Total_Weight_by_X(kg)'] = data['Weight (g)']*data['Order Qty']/1000\n",
    "\n",
    "# Total price of items\n",
    "data['Amount_of_order'] = data['Item Price(Per Qty.)']*data['Order Qty']\n"
   ]
  },
  {
   "cell_type": "code",
   "execution_count": 8,
   "id": "bc6230b5",
   "metadata": {},
   "outputs": [],
   "source": [
    "# Drop unnecessary columns\n",
    "data.drop(labels=['Order Qty','Item Price(Per Qty.)','Weight (g)','SKU'],axis=1,inplace=True)"
   ]
  },
  {
   "cell_type": "code",
   "execution_count": 9,
   "id": "19e4fb34",
   "metadata": {},
   "outputs": [
    {
     "data": {
      "text/plain": [
       "(124, 4)"
      ]
     },
     "execution_count": 9,
     "metadata": {},
     "output_type": "execute_result"
    }
   ],
   "source": [
    "# Total weight and Amount for each order\n",
    "data = data.groupby(by=['ExternOrderNo','Payment Mode'],as_index=False).sum()\n",
    "data.shape"
   ]
  },
  {
   "cell_type": "markdown",
   "id": "a08adc77",
   "metadata": {},
   "source": [
    "# Merging different datasets"
   ]
  },
  {
   "cell_type": "markdown",
   "id": "5c02decf",
   "metadata": {},
   "source": [
    "#### Merge Invoice data with pincode datato find zone for X"
   ]
  },
  {
   "cell_type": "code",
   "execution_count": 10,
   "id": "1d649a77",
   "metadata": {},
   "outputs": [],
   "source": [
    "# Lets merge invoice data\n",
    "data = data.merge(invoice,how='left',left_on='ExternOrderNo',right_on='Order ID')\n"
   ]
  },
  {
   "cell_type": "code",
   "execution_count": 11,
   "id": "b838bb48",
   "metadata": {},
   "outputs": [],
   "source": [
    "# merge invoice with pincode data\n",
    "data = data.merge(pin_zone,how='left',on=['Warehouse Pincode','Customer Pincode'])\n",
    "\n",
    "# rename zone columns from invoice data as zone_by_courier and pincode as zone_by_X\n",
    "data = data.rename(columns={'Zone_x':'Zone_by_Courier','Zone_y':'Zone_by_X'})"
   ]
  },
  {
   "cell_type": "markdown",
   "id": "8187cfdb",
   "metadata": {},
   "source": [
    "###  Add rate"
   ]
  },
  {
   "cell_type": "code",
   "execution_count": 12,
   "id": "3e60fb07",
   "metadata": {},
   "outputs": [
    {
     "data": {
      "text/plain": [
       "array(['A', 'B', 'C', 'D', 'E'], dtype=object)"
      ]
     },
     "execution_count": 12,
     "metadata": {},
     "output_type": "execute_result"
    }
   ],
   "source": [
    "rates['Zone'].unique()"
   ]
  },
  {
   "cell_type": "markdown",
   "id": "9b0ea116",
   "metadata": {},
   "source": [
    "#### Change zone values to lowercase because values in our data are lowercase"
   ]
  },
  {
   "cell_type": "code",
   "execution_count": 13,
   "id": "417214a0",
   "metadata": {},
   "outputs": [],
   "source": [
    "# Convert Uppercase to lowercase\n",
    "rates['Zone'] = rates['Zone'].str.lower()"
   ]
  },
  {
   "cell_type": "code",
   "execution_count": 14,
   "id": "57c1a652",
   "metadata": {},
   "outputs": [],
   "source": [
    "data = data.merge(rates,how='left',left_on='Zone_by_X',right_on='Zone')"
   ]
  },
  {
   "cell_type": "markdown",
   "id": "b1e7ddb8",
   "metadata": {},
   "source": [
    "# Calculate Charges"
   ]
  },
  {
   "cell_type": "markdown",
   "id": "b8c47234",
   "metadata": {},
   "source": [
    "####  Forward Fix charge is same"
   ]
  },
  {
   "cell_type": "code",
   "execution_count": 15,
   "id": "5169a540",
   "metadata": {},
   "outputs": [],
   "source": [
    "# Forward additional charge \n",
    "data['Forward_additional_charge'] = (data['Total_Weight_by_X(kg)']/data['Weight Slabs']).astype(int)*data['Forward Additional Weight Slab Charge']"
   ]
  },
  {
   "cell_type": "code",
   "execution_count": 16,
   "id": "8a92ca3f",
   "metadata": {},
   "outputs": [],
   "source": [
    "# Fixed RTO charges for forward and rto order\n",
    "def fixed_rto_charge(row):\n",
    "    if row['Type of Shipment'] == 'Forward and RTO charges':\n",
    "        return row['RTO Fixed Charge']\n",
    "    elif row['Type of Shipment'] == 'Forward charges':\n",
    "        return 0\n",
    "    else:\n",
    "        return None\n",
    "    \n",
    "data['RTO_fixed_charge'] = data.apply(fixed_rto_charge, axis=1)"
   ]
  },
  {
   "cell_type": "code",
   "execution_count": 17,
   "id": "33ee72e6",
   "metadata": {},
   "outputs": [],
   "source": [
    "# Additional RTO charges for forward and rto order\n",
    "def additional_rto_charge(row):\n",
    "    if row['Type of Shipment'] == 'Forward and RTO charges':\n",
    "        return math.floor(row['Total_Weight_by_X(kg)']/row['Weight Slabs'])*row['RTO Additional Weight Slab Charge']\n",
    "    elif row['Type of Shipment'] == 'Forward charges':\n",
    "        return 0\n",
    "    else:\n",
    "        return None\n",
    "    \n",
    "data['RTO_additional_charge'] = data.apply(additional_rto_charge, axis=1)"
   ]
  },
  {
   "cell_type": "code",
   "execution_count": 18,
   "id": "f3978ca3",
   "metadata": {},
   "outputs": [],
   "source": [
    "# COD Charge\n",
    "def cod_charge(row):\n",
    "    if ((row['Payment Mode']=='COD') & (row['Amount_of_order']<=300)):\n",
    "        return 15\n",
    "    elif ((row['Payment Mode']=='COD') & (row['Amount_of_order']>300)):\n",
    "        return row['Amount_of_order']*0.05\n",
    "    else:\n",
    "        return 0\n",
    "\n",
    "data['COD_charge'] = data.apply(cod_charge,axis=1)\n"
   ]
  },
  {
   "cell_type": "code",
   "execution_count": 19,
   "id": "318fafed",
   "metadata": {},
   "outputs": [],
   "source": [
    "# Calculate total expected charge for delivery\n",
    "data['Expected_charges'] = data['Forward Fixed Charge'] + data['Forward_additional_charge'] + data['RTO_fixed_charge'] + data['RTO_additional_charge'] + data['COD_charge']"
   ]
  },
  {
   "cell_type": "code",
   "execution_count": 20,
   "id": "a8b70a0b",
   "metadata": {},
   "outputs": [],
   "source": [
    "# Difference between expected and billed charges\n",
    "data['diff_charges'] =  data['Expected_charges'] - data['Billing Amount (Rs.)']"
   ]
  },
  {
   "cell_type": "code",
   "execution_count": 21,
   "id": "27f9f344",
   "metadata": {},
   "outputs": [],
   "source": [
    "# Add column weight slab charged by courier for output\n",
    "\n",
    "data['Weight_slabs_Courier'] = data['Zone_by_Courier'].replace(to_replace=['a','b','c','d','e'],value=[0.25,0.5,0.75,1.25,1.5])"
   ]
  },
  {
   "cell_type": "code",
   "execution_count": 22,
   "id": "150166ff",
   "metadata": {},
   "outputs": [],
   "source": [
    "# add column to check if courier company overcharged or undercharged\n",
    "def is_correct(row):\n",
    "    if row['diff_charges'] == 0:\n",
    "        return 'X correctly charged'\n",
    "    elif row['diff_charges'] > 0:\n",
    "        return 'X Undercharged'\n",
    "    else:\n",
    "        return 'X Overcharged'\n",
    "data['over_or_under_charged'] = data.apply(is_correct,axis=1)"
   ]
  },
  {
   "cell_type": "code",
   "execution_count": 23,
   "id": "f6a582b8",
   "metadata": {
    "scrolled": true
   },
   "outputs": [
    {
     "data": {
      "text/plain": [
       "Index(['ExternOrderNo', 'Payment Mode', 'Total_Weight_by_X(kg)',\n",
       "       'Amount_of_order', 'AWB Code', 'Order ID', 'Charged Weight',\n",
       "       'Warehouse Pincode', 'Customer Pincode', 'Zone_by_Courier',\n",
       "       'Type of Shipment', 'Billing Amount (Rs.)', 'Zone_by_X', 'Zone',\n",
       "       'Weight Slabs', 'Forward Fixed Charge',\n",
       "       'Forward Additional Weight Slab Charge', 'RTO Fixed Charge',\n",
       "       'RTO Additional Weight Slab Charge', 'Forward_additional_charge',\n",
       "       'RTO_fixed_charge', 'RTO_additional_charge', 'COD_charge',\n",
       "       'Expected_charges', 'diff_charges', 'Weight_slabs_Courier',\n",
       "       'over_or_under_charged'],\n",
       "      dtype='object')"
      ]
     },
     "execution_count": 23,
     "metadata": {},
     "output_type": "execute_result"
    }
   ],
   "source": [
    "data.columns"
   ]
  },
  {
   "cell_type": "markdown",
   "id": "421feefe",
   "metadata": {},
   "source": [
    "# Output"
   ]
  },
  {
   "cell_type": "code",
   "execution_count": 24,
   "id": "86476a21",
   "metadata": {
    "scrolled": true
   },
   "outputs": [],
   "source": [
    "output = data[['Order ID','AWB Code','Total_Weight_by_X(kg)','Weight Slabs','Charged Weight','Weight_slabs_Courier','Zone_by_X',\n",
    "               'Zone_by_Courier','Expected_charges','Billing Amount (Rs.)','diff_charges']]"
   ]
  },
  {
   "cell_type": "code",
   "execution_count": 25,
   "id": "343df6df",
   "metadata": {},
   "outputs": [],
   "source": [
    "summary = pd.DataFrame(index=['Total orders where X has been correctly charged'\n",
    "                              ,'Total Orders where X has been overcharged'\n",
    "                              ,'Total Orders where X has been undercharged'\n",
    "                             ], columns=['Count','Amount(Rs.)'])\n",
    "\n",
    "\n",
    "summary['Count'] = [(data['diff_charges']==0).sum(),\n",
    "                    (data['diff_charges']<0).sum(),\n",
    "                    (data['diff_charges']>0).sum()]\n",
    "\n",
    "summary['Amount(Rs.)'] = [data[data['diff_charges']==0]['Billing Amount (Rs.)'].sum()\n",
    "                          ,abs(data[data['diff_charges']<0]['diff_charges'].sum())\n",
    "                          ,data[data['diff_charges']>0]['diff_charges'].sum()]"
   ]
  },
  {
   "cell_type": "markdown",
   "id": "913e8853",
   "metadata": {},
   "source": [
    "## Export File"
   ]
  },
  {
   "cell_type": "code",
   "execution_count": 26,
   "id": "290cc3a3",
   "metadata": {},
   "outputs": [],
   "source": [
    "# output.to_excel(\"Output.xlsx\")\n",
    "# summary.to_excel(\"Summary.xlsx\")"
   ]
  },
  {
   "cell_type": "markdown",
   "id": "38cf9c03",
   "metadata": {},
   "source": [
    "# Problems in data"
   ]
  },
  {
   "cell_type": "code",
   "execution_count": 27,
   "id": "c4557fb3",
   "metadata": {},
   "outputs": [
    {
     "name": "stdout",
     "output_type": "stream",
     "text": [
      "Are columns same: False\n",
      "Mismatched entries : 65\n"
     ]
    }
   ],
   "source": [
    "# compare zone from invoice and pincode data\n",
    "\n",
    "transposed_df = data[['Zone_by_Courier','Zone_by_X']].T\n",
    "duplicate_columns = transposed_df.duplicated()\n",
    "print(\"Are columns same:\",invoice.duplicated().any())\n",
    "\n",
    "mismatch_zone = data[data['Zone_by_Courier'] != data['Zone_by_X']].shape[0]\n",
    "print(\"Mismatched entries :\",mismatch_zone)"
   ]
  },
  {
   "cell_type": "markdown",
   "id": "469a3743",
   "metadata": {},
   "source": [
    "### *65 entries of zone in invoice are not according to pincode data"
   ]
  },
  {
   "cell_type": "code",
   "execution_count": 28,
   "id": "0255665e",
   "metadata": {},
   "outputs": [
    {
     "name": "stdout",
     "output_type": "stream",
     "text": [
      "Are columns same: False\n",
      "Mismatched entries : 116\n"
     ]
    }
   ],
   "source": [
    "# Comparing weight of order to weight chared by courier company\n",
    "print(\"Are columns same:\",(data['Total_Weight_by_X(kg)'] == data['Charged Weight']).all())\n",
    "\n",
    "print(\"Mismatched entries :\",(data['Total_Weight_by_X(kg)'] != data['Charged Weight']).sum())"
   ]
  },
  {
   "cell_type": "markdown",
   "id": "b394fb76",
   "metadata": {},
   "source": [
    "### *Total weight do not match Charged Weight by courier on **116** entries"
   ]
  },
  {
   "cell_type": "code",
   "execution_count": null,
   "id": "046d9dbf",
   "metadata": {},
   "outputs": [],
   "source": []
  }
 ],
 "metadata": {
  "kernelspec": {
   "display_name": "Python 3 (ipykernel)",
   "language": "python",
   "name": "python3"
  },
  "language_info": {
   "codemirror_mode": {
    "name": "ipython",
    "version": 3
   },
   "file_extension": ".py",
   "mimetype": "text/x-python",
   "name": "python",
   "nbconvert_exporter": "python",
   "pygments_lexer": "ipython3",
   "version": "3.9.7"
  }
 },
 "nbformat": 4,
 "nbformat_minor": 5
}
